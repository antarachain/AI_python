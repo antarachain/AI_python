{
 "cells": [
  {
   "cell_type": "code",
   "execution_count": 33,
   "metadata": {},
   "outputs": [],
   "source": [
    "import functions as fs\n",
    "import numpy as np\n",
    "import matplotlib.pyplot as plt\n",
    "import time\n",
    "import pdb"
   ]
  },
  {
   "cell_type": "markdown",
   "metadata": {},
   "source": [
    "# feat1 결과"
   ]
  },
  {
   "cell_type": "code",
   "execution_count": 34,
   "metadata": {},
   "outputs": [
    {
     "name": "stdout",
     "output_type": "stream",
     "text": [
      "2.9564239978790283\n",
      "0.8755199999999999\n",
      "0.3789109093477669\n"
     ]
    }
   ],
   "source": [
    "t1 = time.time()\n",
    "train, test = fs.init_data()\n",
    "trainSet, testSet = fs.data_ready1(train, test)\n",
    "trainSetf1, testSetf1 = fs.feat1(trainSet, testSet)\n",
    "#trainSetf1, testSetf1 = fs.feat2(trainSet, testSet, dX=3)\n",
    "result = fs.knn(trainSetf1, testSetf1, k=1)\n",
    "acc, pre, rec, f1 = fs.calcMeasure(result)\n",
    "t2 = time.time()\n",
    "print(t2-t1)\n",
    "print(acc.mean())\n",
    "print(f1.mean())"
   ]
  },
  {
   "cell_type": "code",
   "execution_count": 35,
   "metadata": {},
   "outputs": [
    {
     "name": "stdout",
     "output_type": "stream",
     "text": [
      "3.089505910873413\n",
      "0.8826\n",
      "0.4032527360512187\n"
     ]
    }
   ],
   "source": [
    "t1 = time.time()\n",
    "train, test = fs.init_data()\n",
    "trainSet, testSet = fs.data_ready1(train, test)\n",
    "trainSetf1, testSetf1 = fs.feat1(trainSet, testSet)\n",
    "#trainSetf1, testSetf1 = fs.feat2(trainSet, testSet, dX=3)\n",
    "result = fs.knn(trainSetf1, testSetf1, k=5)\n",
    "acc, pre, rec, f1 = fs.calcMeasure(result)\n",
    "t2 = time.time()\n",
    "print(t2-t1)\n",
    "print(acc.mean())\n",
    "print(f1.mean())"
   ]
  },
  {
   "cell_type": "code",
   "execution_count": 36,
   "metadata": {},
   "outputs": [
    {
     "name": "stdout",
     "output_type": "stream",
     "text": [
      "2.8664450645446777\n",
      "0.88688\n",
      "0.42237530892755293\n"
     ]
    }
   ],
   "source": [
    "t1 = time.time()\n",
    "train, test = fs.init_data()\n",
    "trainSet, testSet = fs.data_ready1(train, test)\n",
    "trainSetf1, testSetf1 = fs.feat1(trainSet, testSet)\n",
    "#trainSetf1, testSetf1 = fs.feat2(trainSet, testSet, dX=3)\n",
    "result = fs.knn(trainSetf1, testSetf1, k=15)\n",
    "acc, pre, rec, f1 = fs.calcMeasure(result)\n",
    "t2 = time.time()\n",
    "print(t2-t1)\n",
    "print(acc.mean())\n",
    "print(f1.mean())"
   ]
  },
  {
   "cell_type": "code",
   "execution_count": 27,
   "metadata": {},
   "outputs": [
    {
     "name": "stdout",
     "output_type": "stream",
     "text": [
      "2.8271448612213135\n",
      "0.88948\n",
      "0.427542665317121\n"
     ]
    }
   ],
   "source": [
    "t1 = time.time()\n",
    "train, test = fs.init_data()\n",
    "trainSet, testSet = fs.data_ready1(train, test)\n",
    "trainSetf1, testSetf1 = fs.feat1(trainSet, testSet)\n",
    "#trainSetf1, testSetf1 = fs.feat2(trainSet, testSet, dX=3)\n",
    "result = fs.knn(trainSetf1, testSetf1, k=50)\n",
    "acc, pre, rec, f1 = fs.calcMeasure(result)\n",
    "t2 = time.time()\n",
    "print(t2-t1)\n",
    "print(acc.mean())\n",
    "print(f1.mean())"
   ]
  },
  {
   "cell_type": "code",
   "execution_count": 28,
   "metadata": {},
   "outputs": [
    {
     "name": "stdout",
     "output_type": "stream",
     "text": [
      "3.271707773208618\n",
      "0.88784\n",
      "0.41505290392064176\n"
     ]
    }
   ],
   "source": [
    "t1 = time.time()\n",
    "train, test = fs.init_data()\n",
    "trainSet, testSet = fs.data_ready1(train, test)\n",
    "trainSetf1, testSetf1 = fs.feat1(trainSet, testSet)\n",
    "#trainSetf1, testSetf1 = fs.feat2(trainSet, testSet, dX=3)\n",
    "result = fs.knn(trainSetf1, testSetf1, k=100)\n",
    "acc, pre, rec, f1 = fs.calcMeasure(result)\n",
    "t2 = time.time()\n",
    "print(t2-t1)\n",
    "print(acc.mean())\n",
    "print(f1.mean())"
   ]
  },
  {
   "cell_type": "code",
   "execution_count": 29,
   "metadata": {},
   "outputs": [
    {
     "name": "stdout",
     "output_type": "stream",
     "text": [
      "3.503319025039673\n",
      "0.8852\n",
      "0.3934969952796402\n"
     ]
    }
   ],
   "source": [
    "t1 = time.time()\n",
    "train, test = fs.init_data()\n",
    "trainSet, testSet = fs.data_ready1(train, test)\n",
    "trainSetf1, testSetf1 = fs.feat1(trainSet, testSet)\n",
    "#trainSetf1, testSetf1 = fs.feat2(trainSet, testSet, dX=3)\n",
    "result = fs.knn(trainSetf1, testSetf1, k=200)\n",
    "acc, pre, rec, f1 = fs.calcMeasure(result)\n",
    "t2 = time.time()\n",
    "print(t2-t1)\n",
    "print(acc.mean())\n",
    "print(f1.mean())"
   ]
  },
  {
   "cell_type": "code",
   "execution_count": 30,
   "metadata": {},
   "outputs": [
    {
     "name": "stdout",
     "output_type": "stream",
     "text": [
      "3.209552049636841\n",
      "0.8782399999999999\n",
      "0.3547814553020893\n"
     ]
    }
   ],
   "source": [
    "t1 = time.time()\n",
    "train, test = fs.init_data()\n",
    "trainSet, testSet = fs.data_ready1(train, test)\n",
    "trainSetf1, testSetf1 = fs.feat1(trainSet, testSet)\n",
    "#trainSetf1, testSetf1 = fs.feat2(trainSet, testSet, dX=3)\n",
    "result = fs.knn(trainSetf1, testSetf1, k=500)\n",
    "acc, pre, rec, f1 = fs.calcMeasure(result)\n",
    "t2 = time.time()\n",
    "print(t2-t1)\n",
    "print(acc.mean())\n",
    "print(f1.mean())"
   ]
  },
  {
   "cell_type": "markdown",
   "metadata": {},
   "source": [
    "# feat2 결과"
   ]
  },
  {
   "cell_type": "code",
   "execution_count": 37,
   "metadata": {},
   "outputs": [
    {
     "name": "stdout",
     "output_type": "stream",
     "text": [
      "67.30561900138855\n",
      "0.98228\n",
      "0.9113171801782812\n"
     ]
    }
   ],
   "source": [
    "t1 = time.time()\n",
    "train, test = fs.init_data()\n",
    "trainSet, testSet = fs.data_ready1(train, test)\n",
    "# trainSetf1, testSetf1 = fs.feat1(trainSet, testSet)\n",
    "trainSetf1, testSetf1 = fs.feat2(trainSet, testSet, dX=3)\n",
    "result = fs.knn(trainSetf1, testSetf1, k=1)\n",
    "acc, pre, rec, f1 = fs.calcMeasure(result)\n",
    "t2 = time.time()\n",
    "print(t2-t1)\n",
    "print(acc.mean())\n",
    "print(f1.mean())"
   ]
  },
  {
   "cell_type": "code",
   "execution_count": 38,
   "metadata": {},
   "outputs": [
    {
     "name": "stdout",
     "output_type": "stream",
     "text": [
      "57.16954016685486\n",
      "0.97976\n",
      "0.8987510375751387\n"
     ]
    }
   ],
   "source": [
    "t1 = time.time()\n",
    "train, test = fs.init_data()\n",
    "trainSet, testSet = fs.data_ready1(train, test)\n",
    "# trainSetf1, testSetf1 = fs.feat1(trainSet, testSet)\n",
    "trainSetf1, testSetf1 = fs.feat2(trainSet, testSet, dX=5)\n",
    "result = fs.knn(trainSetf1, testSetf1, k=1)\n",
    "acc, pre, rec, f1 = fs.calcMeasure(result)\n",
    "t2 = time.time()\n",
    "print(t2-t1)\n",
    "print(acc.mean())\n",
    "print(f1.mean())"
   ]
  },
  {
   "cell_type": "code",
   "execution_count": null,
   "metadata": {},
   "outputs": [],
   "source": []
  }
 ],
 "metadata": {
  "kernelspec": {
   "display_name": "Python 3.8.2 64-bit",
   "language": "python",
   "name": "python38264bit4094e939a8b946f98cca8c730a8cf25e"
  },
  "language_info": {
   "codemirror_mode": {
    "name": "ipython",
    "version": 3
   },
   "file_extension": ".py",
   "mimetype": "text/x-python",
   "name": "python",
   "nbconvert_exporter": "python",
   "pygments_lexer": "ipython3",
   "version": "3.8.4"
  }
 },
 "nbformat": 4,
 "nbformat_minor": 4
}
