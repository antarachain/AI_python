{
 "cells": [
  {
   "cell_type": "code",
   "execution_count": 6,
   "metadata": {},
   "outputs": [],
   "source": [
    "import numpy as np\n",
    "import matplotlib.pyplot as plt\n",
    "import pickle"
   ]
  },
  {
   "cell_type": "code",
   "execution_count": 7,
   "metadata": {},
   "outputs": [
    {
     "name": "stdout",
     "output_type": "stream",
     "text": [
      "10\n",
      "5923\n",
      "6742\n",
      "5958\n",
      "(28, 28)\n"
     ]
    }
   ],
   "source": [
    "def init_data():\n",
    "    with open('train.bin', 'rb') as f1:\n",
    "        train = pickle.load(f1)\n",
    "        \n",
    "    with open('test.bin', 'rb') as f2:\n",
    "        test = pickle.load(f2)\n",
    "    return train, test\n",
    "\n",
    "train, test = init_data()\n",
    "\n",
    "print(len(train))\n",
    "print(len(train[0]))\n",
    "print(len(train[1]))\n",
    "print(len(train[2]))\n",
    "print(train[0][0].shape)"
   ]
  },
  {
   "cell_type": "code",
   "execution_count": 8,
   "metadata": {},
   "outputs": [
    {
     "name": "stdout",
     "output_type": "stream",
     "text": [
      "5949\n"
     ]
    },
    {
     "data": {
      "image/png": "[encoded data removed]",
      "text/plain": [
       "<Figure size 432x288 with 10 Axes>"
      ]
     },
     "metadata": {
      "needs_background": "light"
     },
     "output_type": "display_data"
    }
   ],
   "source": [
    "for i in range(10):\n",
    "    plt.subplot(2,5,i+1),\n",
    "    plt.imshow(train[i][0],'gray')\n",
    "    plt.axis('off')\n",
    "print(len(train[i]))\n",
    "plt.show()"
   ]
  },
  {
   "cell_type": "code",
   "execution_count": 9,
   "metadata": {},
   "outputs": [],
   "source": [
    "def data_ready1(train, test):\n",
    "    trainSet = []\n",
    "    testSet = []\n",
    "    for i in range(10):\n",
    "        trainSet.append(train[i][0:300])\n",
    "        testSet.append(test[i][0:100])\n",
    "    return trainSet, testSet"
   ]
  },
  {
   "cell_type": "code",
   "execution_count": 11,
   "metadata": {},
   "outputs": [
    {
     "ename": "NameError",
     "evalue": "name 'createTmpl' is not defined",
     "output_type": "error",
     "traceback": [
      "\u001b[0;31m---------------------------------------------------------------------------\u001b[0m",
      "\u001b[0;31mNameError\u001b[0m                                 Traceback (most recent call last)",
      "\u001b[0;32m<ipython-input-11-b842abf51461>\u001b[0m in \u001b[0;36m<module>\u001b[0;34m\u001b[0m\n\u001b[1;32m      1\u001b[0m \u001b[0mtrain\u001b[0m\u001b[0;34m,\u001b[0m \u001b[0mtest\u001b[0m \u001b[0;34m=\u001b[0m \u001b[0minit_data\u001b[0m\u001b[0;34m(\u001b[0m\u001b[0;34m)\u001b[0m\u001b[0;34m\u001b[0m\u001b[0;34m\u001b[0m\u001b[0m\n\u001b[1;32m      2\u001b[0m \u001b[0mtrainSet\u001b[0m\u001b[0;34m,\u001b[0m \u001b[0mtestSet\u001b[0m \u001b[0;34m=\u001b[0m \u001b[0mdata_ready1\u001b[0m\u001b[0;34m(\u001b[0m\u001b[0mtrain\u001b[0m\u001b[0;34m,\u001b[0m \u001b[0mtest\u001b[0m\u001b[0;34m)\u001b[0m\u001b[0;34m\u001b[0m\u001b[0;34m\u001b[0m\u001b[0m\n\u001b[0;32m----> 3\u001b[0;31m \u001b[0mtmpl\u001b[0m \u001b[0;34m=\u001b[0m \u001b[0mcreateTmpl\u001b[0m\u001b[0;34m(\u001b[0m\u001b[0mtrainSet\u001b[0m\u001b[0;34m)\u001b[0m\u001b[0;34m\u001b[0m\u001b[0;34m\u001b[0m\u001b[0m\n\u001b[0m\u001b[1;32m      4\u001b[0m \u001b[0mprint\u001b[0m\u001b[0;34m(\u001b[0m\u001b[0mlen\u001b[0m\u001b[0;34m(\u001b[0m\u001b[0mtrainSet\u001b[0m\u001b[0;34m)\u001b[0m\u001b[0;34m)\u001b[0m\u001b[0;34m\u001b[0m\u001b[0;34m\u001b[0m\u001b[0m\n\u001b[1;32m      5\u001b[0m \u001b[0mprint\u001b[0m\u001b[0;34m(\u001b[0m\u001b[0mlen\u001b[0m\u001b[0;34m(\u001b[0m\u001b[0mtrainSet\u001b[0m\u001b[0;34m[\u001b[0m\u001b[0;36m0\u001b[0m\u001b[0;34m]\u001b[0m\u001b[0;34m)\u001b[0m\u001b[0;34m)\u001b[0m\u001b[0;34m\u001b[0m\u001b[0;34m\u001b[0m\u001b[0m\n",
      "\u001b[0;31mNameError\u001b[0m: name 'createTmpl' is not defined"
     ]
    }
   ],
   "source": [
    "train, test = init_data()\n",
    "trainSet, testSet = data_ready1(train, test)\n",
    "tmpl = createTmpl(trainSet)\n",
    "print(len(trainSet))\n",
    "print(len(trainSet[0]))\n",
    "print(len(testSet[0]))"
   ]
  },
  {
   "cell_type": "code",
   "execution_count": 12,
   "metadata": {},
   "outputs": [],
   "source": [
    "def createTmpl(trainSet):\n",
    "    tmpl = np.zeros((28, 28*10))\n",
    "#     pdb.set_trace()\n",
    "    for i in range(10):\n",
    "        imsi = np.array(trainSet[i])\n",
    "        tmpl[:,  i*28:(i+1)*28] = np.mean(imsi, axis = 0)\n",
    "    return tmpl"
   ]
  },
  {
   "cell_type": "code",
   "execution_count": 13,
   "metadata": {},
   "outputs": [
    {
     "ename": "NameError",
     "evalue": "name 'tmpl' is not defined",
     "output_type": "error",
     "traceback": [
      "\u001b[0;31m---------------------------------------------------------------------------\u001b[0m",
      "\u001b[0;31mNameError\u001b[0m                                 Traceback (most recent call last)",
      "\u001b[0;32m<ipython-input-13-f6255fc2af92>\u001b[0m in \u001b[0;36m<module>\u001b[0;34m\u001b[0m\n\u001b[0;32m----> 1\u001b[0;31m \u001b[0mplt\u001b[0m\u001b[0;34m.\u001b[0m\u001b[0mimshow\u001b[0m\u001b[0;34m(\u001b[0m\u001b[0mtmpl\u001b[0m\u001b[0;34m)\u001b[0m\u001b[0;34m\u001b[0m\u001b[0;34m\u001b[0m\u001b[0m\n\u001b[0m\u001b[1;32m      2\u001b[0m \u001b[0mplt\u001b[0m\u001b[0;34m.\u001b[0m\u001b[0mshow\u001b[0m\u001b[0;34m(\u001b[0m\u001b[0;34m)\u001b[0m\u001b[0;34m\u001b[0m\u001b[0;34m\u001b[0m\u001b[0m\n",
      "\u001b[0;31mNameError\u001b[0m: name 'tmpl' is not defined"
     ]
    }
   ],
   "source": [
    "plt.imshow(tmpl)\n",
    "plt.show()"
   ]
  },
  {
   "cell_type": "code",
   "execution_count": 24,
   "metadata": {},
   "outputs": [],
   "source": [
    "def tmplMatch(tmpl, testSet):\n",
    "    result = np.zeros((100,10))\n",
    "\n",
    "    for i in range(len(testSet)):\n",
    "        for j in range(len(testSet[0])):\n",
    "            imsiTest = np.tile(testSet[i][j], (1,10))\n",
    "            error = np.abs(tmpl-imsiTest)\n",
    "            errorSum = [error[:,0:28].sum(), error[:,28:56].sum(), error[:,56:84].sum(), error[:,84:112].sum(), error[:,112:140].sum(),\n",
    " error[:,140:168].sum(), error[:,168:196].sum(), error[:,196:224].sum(), error[:,224:252].sum(), error[:,252:280].sum()]\n",
    "            result[j,i] = np.argmin(errorSum)\n",
    "    return result"
   ]
  },
  {
   "cell_type": "code",
   "execution_count": 25,
   "metadata": {},
   "outputs": [
    {
     "data": {
      "text/plain": [
       "array([[0., 1., 1., 1., 4., 1., 1., 7., 8., 9.],\n",
       "       [0., 1., 2., 3., 4., 1., 6., 7., 1., 9.],\n",
       "       [0., 1., 1., 3., 4., 5., 1., 7., 8., 9.],\n",
       "       [0., 1., 1., 1., 4., 5., 6., 7., 8., 9.],\n",
       "       [0., 1., 1., 3., 4., 5., 1., 7., 8., 9.],\n",
       "       [8., 1., 3., 1., 6., 1., 1., 7., 8., 9.],\n",
       "       [0., 1., 7., 3., 4., 1., 6., 7., 9., 9.],\n",
       "       [0., 1., 2., 1., 4., 5., 6., 7., 8., 1.],\n",
       "       [0., 1., 2., 5., 4., 3., 6., 7., 8., 1.],\n",
       "       [0., 1., 7., 3., 4., 9., 6., 7., 1., 1.],\n",
       "       [0., 1., 2., 3., 1., 5., 1., 7., 8., 9.],\n",
       "       [0., 1., 1., 1., 4., 5., 6., 9., 8., 4.],\n",
       "       [6., 1., 3., 1., 4., 1., 6., 7., 7., 9.],\n",
       "       [0., 1., 1., 1., 4., 5., 6., 7., 8., 9.],\n",
       "       [0., 1., 1., 1., 4., 5., 6., 1., 1., 9.],\n",
       "       [0., 1., 2., 1., 4., 5., 6., 1., 8., 9.],\n",
       "       [0., 1., 2., 3., 9., 3., 6., 1., 8., 9.],\n",
       "       [9., 1., 2., 1., 9., 1., 6., 7., 3., 9.],\n",
       "       [0., 1., 2., 1., 4., 1., 4., 7., 9., 9.],\n",
       "       [0., 1., 1., 3., 6., 3., 6., 7., 4., 9.],\n",
       "       [0., 1., 1., 1., 9., 5., 6., 7., 1., 9.],\n",
       "       [0., 1., 1., 1., 1., 1., 1., 7., 3., 9.],\n",
       "       [0., 1., 1., 1., 4., 1., 0., 7., 1., 9.],\n",
       "       [0., 1., 1., 3., 4., 5., 6., 1., 1., 9.],\n",
       "       [5., 1., 1., 1., 4., 3., 1., 7., 1., 9.],\n",
       "       [0., 1., 2., 1., 9., 5., 6., 7., 8., 9.],\n",
       "       [0., 1., 2., 5., 9., 1., 1., 7., 8., 9.],\n",
       "       [1., 1., 1., 1., 9., 1., 6., 1., 1., 9.],\n",
       "       [0., 1., 1., 3., 4., 5., 6., 1., 9., 1.],\n",
       "       [8., 1., 1., 1., 1., 1., 1., 7., 1., 9.],\n",
       "       [5., 1., 1., 3., 4., 5., 6., 7., 1., 9.],\n",
       "       [1., 1., 2., 9., 1., 5., 6., 7., 1., 9.],\n",
       "       [1., 1., 1., 3., 4., 1., 6., 7., 1., 9.],\n",
       "       [0., 1., 1., 7., 9., 5., 6., 1., 9., 9.],\n",
       "       [0., 1., 3., 3., 4., 5., 6., 9., 8., 9.],\n",
       "       [0., 1., 1., 1., 4., 0., 1., 1., 8., 1.],\n",
       "       [0., 1., 1., 3., 9., 5., 6., 1., 8., 9.],\n",
       "       [1., 1., 1., 3., 1., 9., 5., 7., 8., 9.],\n",
       "       [0., 1., 7., 3., 9., 1., 4., 1., 9., 9.],\n",
       "       [0., 1., 1., 5., 4., 5., 6., 7., 6., 9.],\n",
       "       [6., 1., 1., 3., 9., 5., 6., 7., 1., 9.],\n",
       "       [9., 1., 1., 3., 4., 5., 6., 7., 3., 9.],\n",
       "       [0., 1., 2., 1., 9., 0., 1., 1., 1., 9.],\n",
       "       [0., 1., 1., 7., 4., 3., 6., 7., 1., 9.],\n",
       "       [0., 1., 2., 3., 4., 4., 4., 7., 1., 9.],\n",
       "       [6., 1., 1., 3., 4., 9., 6., 7., 6., 9.],\n",
       "       [0., 1., 2., 3., 4., 9., 6., 9., 8., 8.],\n",
       "       [9., 1., 1., 5., 1., 1., 6., 7., 9., 9.],\n",
       "       [1., 1., 1., 1., 4., 1., 1., 7., 8., 9.],\n",
       "       [0., 1., 8., 1., 9., 9., 6., 7., 1., 3.],\n",
       "       [0., 1., 1., 3., 4., 1., 6., 7., 1., 9.],\n",
       "       [0., 1., 1., 1., 1., 5., 6., 1., 8., 9.],\n",
       "       [7., 1., 1., 1., 4., 5., 6., 1., 1., 9.],\n",
       "       [0., 1., 1., 1., 4., 5., 2., 7., 9., 9.],\n",
       "       [0., 1., 1., 9., 1., 5., 6., 7., 3., 4.],\n",
       "       [0., 1., 2., 3., 1., 5., 6., 7., 1., 1.],\n",
       "       [0., 1., 1., 3., 1., 9., 6., 7., 8., 9.],\n",
       "       [0., 1., 6., 3., 9., 3., 6., 1., 8., 9.],\n",
       "       [0., 1., 1., 1., 4., 7., 6., 1., 8., 9.],\n",
       "       [6., 1., 1., 8., 4., 6., 6., 7., 1., 9.],\n",
       "       [0., 1., 2., 3., 4., 7., 6., 7., 1., 9.],\n",
       "       [0., 1., 1., 1., 4., 3., 6., 7., 4., 9.],\n",
       "       [0., 1., 2., 1., 4., 1., 6., 7., 1., 9.],\n",
       "       [6., 1., 1., 1., 4., 1., 6., 4., 8., 9.],\n",
       "       [0., 1., 1., 1., 9., 5., 6., 7., 1., 9.],\n",
       "       [6., 1., 6., 3., 9., 5., 6., 1., 8., 1.],\n",
       "       [0., 1., 1., 3., 9., 1., 6., 7., 1., 9.],\n",
       "       [0., 1., 1., 1., 6., 5., 6., 1., 1., 9.],\n",
       "       [0., 1., 1., 3., 4., 3., 6., 1., 4., 9.],\n",
       "       [0., 1., 2., 1., 4., 5., 6., 1., 8., 9.],\n",
       "       [7., 1., 1., 1., 4., 5., 6., 7., 3., 4.],\n",
       "       [0., 1., 1., 1., 1., 1., 1., 7., 8., 9.],\n",
       "       [0., 1., 1., 1., 4., 5., 6., 7., 1., 4.],\n",
       "       [0., 1., 1., 1., 4., 4., 6., 7., 3., 9.],\n",
       "       [0., 1., 1., 1., 9., 1., 1., 7., 7., 9.],\n",
       "       [0., 1., 9., 3., 4., 5., 6., 7., 8., 9.],\n",
       "       [6., 1., 2., 3., 9., 1., 6., 7., 9., 9.],\n",
       "       [6., 1., 8., 3., 4., 1., 6., 7., 3., 9.],\n",
       "       [0., 1., 1., 3., 4., 5., 6., 7., 1., 9.],\n",
       "       [0., 1., 2., 3., 4., 5., 6., 7., 3., 9.],\n",
       "       [0., 1., 8., 1., 9., 5., 6., 7., 8., 9.],\n",
       "       [0., 1., 1., 3., 9., 5., 1., 1., 3., 9.],\n",
       "       [0., 1., 2., 3., 9., 7., 4., 7., 1., 9.],\n",
       "       [0., 1., 2., 3., 9., 9., 0., 1., 1., 1.],\n",
       "       [0., 1., 1., 3., 1., 6., 6., 7., 8., 9.],\n",
       "       [6., 1., 2., 3., 4., 9., 6., 7., 9., 7.],\n",
       "       [0., 1., 2., 3., 4., 3., 6., 1., 8., 4.],\n",
       "       [0., 1., 1., 1., 4., 3., 1., 7., 1., 4.],\n",
       "       [0., 1., 2., 3., 9., 9., 4., 7., 9., 9.],\n",
       "       [0., 1., 1., 3., 4., 4., 6., 1., 1., 9.],\n",
       "       [0., 1., 1., 1., 4., 5., 1., 7., 8., 9.],\n",
       "       [6., 1., 1., 1., 4., 5., 6., 7., 1., 9.],\n",
       "       [6., 1., 2., 3., 4., 5., 6., 7., 1., 9.],\n",
       "       [0., 1., 2., 3., 4., 7., 1., 1., 1., 9.],\n",
       "       [0., 1., 1., 3., 1., 1., 6., 7., 9., 1.],\n",
       "       [3., 1., 1., 3., 4., 1., 6., 7., 1., 9.],\n",
       "       [0., 1., 2., 3., 4., 6., 6., 1., 8., 9.],\n",
       "       [4., 1., 2., 3., 4., 5., 1., 1., 8., 1.],\n",
       "       [0., 1., 2., 3., 9., 5., 6., 7., 9., 9.],\n",
       "       [6., 1., 1., 3., 4., 9., 6., 7., 8., 9.]])"
      ]
     },
     "execution_count": 25,
     "metadata": {},
     "output_type": "execute_result"
    }
   ],
   "source": [
    "result = tmplMatch(tmpl, testSet)\n",
    "result.shape\n",
    "result"
   ]
  },
  {
   "cell_type": "code",
   "execution_count": 26,
   "metadata": {},
   "outputs": [],
   "source": [
    "def calcMeasure(result):\n",
    "    \n",
    "    label = np.tile(np.arange(0,10), (100,1))\n",
    "    \n",
    "    TP = []; TN = []; FN = []; FP = []\n",
    "    for i in range(10):\n",
    "        TP.append(((result == label) & (label == i)).sum())\n",
    "        TN.append(((result == label) & (label != i)). sum())\n",
    "        FP.append(((result != label) & (result == i)).sum())\n",
    "        FN.append(((result != label) & (result != i)).sum())\n",
    "        \n",
    "    TP = np.array(TP); TN = np.array(TN); FN = np.array(FN); FP = np.array(FP)\n",
    "    acc = (TP+TN)/(TP+TN+FP+FN)\n",
    "    pre = TP/(TP+FP)\n",
    "    rec = TP/(TP+FN)\n",
    "    f1 = 2*pre*rec/(pre+rec)\n",
    "    \n",
    "    return acc, pre, rec, f1"
   ]
  },
  {
   "cell_type": "code",
   "execution_count": 27,
   "metadata": {},
   "outputs": [
    {
     "data": {
      "text/plain": [
       "(array([0.613, 0.613, 0.613, 0.613, 0.613, 0.613, 0.613, 0.613, 0.613,\n",
       "        0.613]),\n",
       " array([0.94736842, 0.2994012 , 0.96774194, 0.67567568, 0.75949367,\n",
       "        0.85714286, 0.76595745, 0.83333333, 0.8372093 , 0.59558824]),\n",
       " array([0.15824176, 0.39525692, 0.07211538, 0.12106538, 0.14018692,\n",
       "        0.09952607, 0.16475973, 0.15801354, 0.08653846, 0.19612591]),\n",
       " array([0.27118644, 0.3407155 , 0.13422819, 0.20533881, 0.23668639,\n",
       "        0.17834395, 0.27118644, 0.26565465, 0.15686275, 0.29508197]))"
      ]
     },
     "execution_count": 27,
     "metadata": {},
     "output_type": "execute_result"
    }
   ],
   "source": [
    "acc, pre, rec, f1 = calcMeasure(result)\n",
    "acc, pre, rec, f1"
   ]
  },
  {
   "cell_type": "code",
   "execution_count": 28,
   "metadata": {},
   "outputs": [
    {
     "data": {
      "text/plain": [
       "0.1591830056341708"
      ]
     },
     "execution_count": 28,
     "metadata": {},
     "output_type": "execute_result"
    }
   ],
   "source": [
    "rec.mean()"
   ]
  },
  {
   "cell_type": "code",
   "execution_count": 29,
   "metadata": {},
   "outputs": [
    {
     "data": {
      "text/plain": [
       "0.235528508171031"
      ]
     },
     "execution_count": 29,
     "metadata": {},
     "output_type": "execute_result"
    }
   ],
   "source": [
    "f1.mean()"
   ]
  },
  {
   "cell_type": "code",
   "execution_count": 30,
   "metadata": {},
   "outputs": [
    {
     "data": {
      "text/plain": [
       "0.6129999999999999"
      ]
     },
     "execution_count": 30,
     "metadata": {},
     "output_type": "execute_result"
    }
   ],
   "source": [
    "acc.mean()"
   ]
  },
  {
   "cell_type": "code",
   "execution_count": 31,
   "metadata": {
    "scrolled": false
   },
   "outputs": [
    {
     "data": {
      "text/plain": [
       "0.7538912075607445"
      ]
     },
     "execution_count": 31,
     "metadata": {},
     "output_type": "execute_result"
    }
   ],
   "source": [
    "pre.mean()"
   ]
  },
  {
   "cell_type": "code",
   "execution_count": 32,
   "metadata": {},
   "outputs": [],
   "source": [
    "def data_ready2(train, test, k):\n",
    "    trainSet = []\n",
    "    testSet = []\n",
    "    for i in range(10):\n",
    "        trainSet.append(train[i][0:k])\n",
    "        testSet.append(test[i][0:100])\n",
    "    return trainSet, testSet"
   ]
  },
  {
   "cell_type": "code",
   "execution_count": 33,
   "metadata": {},
   "outputs": [
    {
     "name": "stdout",
     "output_type": "stream",
     "text": [
      "10\n",
      "50\n",
      "100\n"
     ]
    }
   ],
   "source": [
    "train, test = init_data()\n",
    "trainSet, testSet = data_ready2(train, test, 50)\n",
    "tmpl = createTmpl(trainSet)\n",
    "print(len(trainSet))\n",
    "print(len(trainSet[0]))\n",
    "print(len(testSet[0]))"
   ]
  },
  {
   "cell_type": "code",
   "execution_count": 34,
   "metadata": {},
   "outputs": [],
   "source": [
    "def createTmpl(trainSet):\n",
    "    tmpl = np.zeros((28, 28*10))\n",
    "#     pdb.set_trace()\n",
    "    for i in range(10):\n",
    "        imsi = np.array(trainSet[i])\n",
    "        tmpl[:,  i*28:(i+1)*28] = np.mean(imsi, axis = 0)\n",
    "    return tmpl"
   ]
  },
  {
   "cell_type": "code",
   "execution_count": 35,
   "metadata": {},
   "outputs": [
    {
     "data": {
      "image/png": "[encoded data removed]",
      "text/plain": [
       "<Figure size 432x288 with 1 Axes>"
      ]
     },
     "metadata": {
      "needs_background": "light"
     },
     "output_type": "display_data"
    }
   ],
   "source": [
    "plt.imshow(tmpl)\n",
    "plt.show()"
   ]
  },
  {
   "cell_type": "code",
   "execution_count": 36,
   "metadata": {},
   "outputs": [],
   "source": [
    "def tmplMatch(tmpl, testSet):\n",
    "    result = np.zeros((100,10))\n",
    "\n",
    "    for i in range(len(testSet)):\n",
    "        for j in range(len(testSet[0])):\n",
    "            imsiTest = np.tile(testSet[i][j], (1,10))\n",
    "            error = np.abs(tmpl-imsiTest)\n",
    "            errorSum = [error[:,0:28].sum(), error[:,28:56].sum(), error[:,56:84].sum(), error[:,84:112].sum(), error[:,112:140].sum(),\n",
    " error[:,140:168].sum(), error[:,168:196].sum(), error[:,196:224].sum(), error[:,224:252].sum(), error[:,252:280].sum()]\n",
    "            result[j,i] = np.argmin(errorSum)\n",
    "    return result"
   ]
  },
  {
   "cell_type": "code",
   "execution_count": 37,
   "metadata": {},
   "outputs": [
    {
     "data": {
      "text/plain": [
       "array([[0., 1., 1., 1., 4., 1., 1., 7., 8., 9.],\n",
       "       [0., 1., 2., 3., 9., 1., 6., 7., 9., 7.],\n",
       "       [0., 1., 1., 3., 9., 1., 1., 7., 8., 9.],\n",
       "       [0., 1., 1., 1., 9., 5., 6., 7., 8., 9.],\n",
       "       [0., 1., 1., 3., 4., 9., 1., 7., 8., 9.],\n",
       "       [6., 1., 3., 1., 6., 1., 1., 7., 9., 9.],\n",
       "       [0., 1., 7., 3., 9., 1., 6., 7., 9., 9.],\n",
       "       [0., 1., 2., 1., 4., 9., 6., 7., 8., 1.],\n",
       "       [0., 1., 2., 5., 4., 3., 6., 7., 8., 1.],\n",
       "       [0., 1., 7., 3., 4., 9., 6., 7., 1., 1.],\n",
       "       [6., 1., 2., 3., 9., 9., 1., 7., 9., 9.],\n",
       "       [0., 1., 1., 1., 4., 5., 6., 9., 8., 9.],\n",
       "       [6., 1., 3., 1., 4., 9., 6., 9., 7., 9.],\n",
       "       [0., 1., 1., 1., 4., 5., 6., 7., 8., 9.],\n",
       "       [0., 1., 1., 1., 4., 9., 6., 1., 1., 9.],\n",
       "       [5., 1., 2., 1., 4., 5., 6., 1., 8., 9.],\n",
       "       [0., 1., 2., 3., 9., 3., 6., 1., 6., 9.],\n",
       "       [9., 1., 6., 1., 9., 1., 6., 9., 5., 9.],\n",
       "       [0., 1., 6., 1., 4., 1., 6., 9., 9., 9.],\n",
       "       [0., 1., 1., 3., 6., 3., 6., 7., 9., 9.],\n",
       "       [0., 1., 1., 1., 4., 5., 6., 7., 8., 9.],\n",
       "       [0., 1., 1., 1., 1., 1., 1., 7., 0., 9.],\n",
       "       [0., 1., 1., 1., 9., 7., 0., 7., 1., 9.],\n",
       "       [0., 1., 1., 3., 4., 5., 6., 1., 8., 9.],\n",
       "       [0., 1., 1., 1., 4., 3., 1., 7., 1., 9.],\n",
       "       [0., 1., 2., 1., 9., 5., 6., 7., 9., 9.],\n",
       "       [0., 1., 1., 5., 9., 1., 4., 9., 8., 9.],\n",
       "       [6., 1., 1., 1., 9., 1., 6., 9., 1., 9.],\n",
       "       [0., 1., 1., 3., 4., 5., 6., 9., 9., 1.],\n",
       "       [8., 1., 1., 1., 9., 1., 1., 9., 1., 9.],\n",
       "       [6., 1., 1., 3., 4., 5., 6., 9., 1., 9.],\n",
       "       [0., 1., 2., 9., 1., 1., 6., 7., 1., 9.],\n",
       "       [0., 1., 1., 3., 4., 1., 6., 7., 1., 9.],\n",
       "       [0., 1., 1., 7., 9., 9., 6., 1., 9., 9.],\n",
       "       [0., 1., 3., 3., 4., 3., 6., 9., 8., 9.],\n",
       "       [0., 1., 1., 5., 4., 0., 7., 1., 8., 1.],\n",
       "       [6., 1., 1., 3., 9., 3., 6., 1., 8., 9.],\n",
       "       [1., 1., 1., 3., 1., 9., 5., 7., 8., 9.],\n",
       "       [0., 1., 7., 3., 9., 1., 4., 1., 9., 9.],\n",
       "       [0., 1., 1., 5., 4., 9., 6., 9., 6., 9.],\n",
       "       [6., 1., 1., 3., 9., 5., 6., 9., 1., 9.],\n",
       "       [9., 1., 1., 3., 4., 5., 6., 7., 0., 9.],\n",
       "       [0., 1., 2., 1., 9., 0., 1., 1., 1., 9.],\n",
       "       [0., 1., 1., 7., 4., 3., 6., 7., 1., 9.],\n",
       "       [0., 1., 2., 3., 4., 9., 4., 7., 9., 9.],\n",
       "       [6., 1., 1., 3., 4., 9., 6., 7., 6., 9.],\n",
       "       [5., 1., 1., 3., 4., 9., 6., 8., 8., 9.],\n",
       "       [9., 1., 5., 1., 7., 1., 6., 7., 9., 9.],\n",
       "       [9., 1., 1., 1., 4., 1., 1., 7., 8., 9.],\n",
       "       [0., 1., 8., 1., 9., 9., 6., 7., 1., 9.],\n",
       "       [0., 1., 1., 3., 4., 1., 6., 9., 1., 9.],\n",
       "       [0., 1., 1., 1., 4., 3., 6., 9., 8., 9.],\n",
       "       [7., 1., 1., 1., 4., 5., 6., 1., 1., 9.],\n",
       "       [0., 1., 1., 1., 9., 5., 6., 7., 9., 9.],\n",
       "       [0., 1., 8., 9., 9., 5., 6., 9., 3., 4.],\n",
       "       [0., 1., 2., 5., 1., 9., 6., 7., 1., 9.],\n",
       "       [7., 1., 1., 3., 9., 9., 6., 9., 8., 9.],\n",
       "       [0., 1., 6., 3., 9., 3., 6., 1., 8., 9.],\n",
       "       [0., 1., 4., 9., 4., 7., 6., 1., 8., 9.],\n",
       "       [9., 1., 1., 8., 4., 6., 6., 7., 8., 9.],\n",
       "       [0., 1., 2., 3., 4., 9., 6., 7., 1., 9.],\n",
       "       [0., 1., 8., 1., 4., 6., 6., 9., 9., 9.],\n",
       "       [0., 1., 2., 1., 4., 1., 6., 7., 1., 9.],\n",
       "       [6., 1., 1., 9., 4., 1., 6., 4., 8., 9.],\n",
       "       [0., 1., 1., 1., 9., 3., 6., 9., 5., 9.],\n",
       "       [6., 1., 6., 3., 9., 5., 6., 1., 9., 9.],\n",
       "       [0., 1., 1., 3., 9., 1., 6., 7., 1., 9.],\n",
       "       [0., 1., 1., 1., 6., 5., 6., 9., 1., 9.],\n",
       "       [0., 1., 4., 3., 4., 3., 6., 1., 4., 9.],\n",
       "       [0., 1., 6., 1., 4., 3., 6., 9., 9., 9.],\n",
       "       [7., 1., 1., 1., 9., 3., 6., 7., 9., 7.],\n",
       "       [0., 1., 1., 1., 4., 1., 1., 9., 8., 7.],\n",
       "       [0., 1., 1., 9., 4., 9., 6., 9., 1., 9.],\n",
       "       [0., 1., 1., 1., 4., 4., 6., 9., 3., 9.],\n",
       "       [0., 1., 1., 1., 9., 1., 1., 7., 7., 9.],\n",
       "       [0., 1., 9., 3., 9., 5., 6., 9., 8., 9.],\n",
       "       [6., 1., 2., 3., 9., 1., 6., 9., 9., 9.],\n",
       "       [6., 1., 8., 3., 4., 1., 6., 9., 3., 9.],\n",
       "       [6., 1., 1., 3., 4., 4., 6., 7., 1., 9.],\n",
       "       [0., 1., 2., 3., 4., 5., 6., 7., 3., 9.],\n",
       "       [0., 1., 8., 1., 9., 5., 6., 7., 8., 9.],\n",
       "       [0., 1., 1., 3., 9., 9., 1., 9., 3., 9.],\n",
       "       [0., 1., 6., 3., 4., 7., 4., 7., 8., 9.],\n",
       "       [5., 1., 2., 5., 9., 9., 0., 1., 1., 9.],\n",
       "       [0., 1., 1., 3., 9., 6., 6., 7., 8., 9.],\n",
       "       [6., 1., 2., 3., 4., 9., 6., 7., 9., 9.],\n",
       "       [0., 1., 2., 1., 4., 3., 6., 1., 8., 4.],\n",
       "       [0., 1., 1., 1., 4., 3., 1., 9., 8., 9.],\n",
       "       [0., 1., 6., 3., 9., 9., 4., 7., 7., 9.],\n",
       "       [0., 1., 1., 3., 4., 4., 6., 1., 1., 9.],\n",
       "       [0., 1., 4., 1., 4., 9., 1., 7., 8., 9.],\n",
       "       [6., 1., 1., 1., 4., 9., 6., 7., 1., 9.],\n",
       "       [6., 1., 8., 3., 4., 5., 6., 7., 1., 9.],\n",
       "       [0., 1., 4., 3., 4., 7., 1., 1., 8., 9.],\n",
       "       [0., 1., 1., 3., 9., 1., 6., 7., 9., 9.],\n",
       "       [5., 1., 1., 3., 4., 1., 6., 9., 1., 9.],\n",
       "       [0., 1., 2., 3., 4., 6., 6., 1., 8., 9.],\n",
       "       [7., 1., 2., 3., 4., 3., 1., 1., 8., 9.],\n",
       "       [0., 1., 2., 1., 9., 9., 6., 7., 9., 9.],\n",
       "       [6., 1., 1., 3., 4., 9., 6., 9., 8., 9.]])"
      ]
     },
     "execution_count": 37,
     "metadata": {},
     "output_type": "execute_result"
    }
   ],
   "source": [
    "result = tmplMatch(tmpl, testSet)\n",
    "result.shape\n",
    "result"
   ]
  },
  {
   "cell_type": "code",
   "execution_count": 38,
   "metadata": {},
   "outputs": [],
   "source": [
    "def calcMeasure(result):\n",
    "    \n",
    "    label = np.tile(np.arange(0,10), (100,1))\n",
    "    \n",
    "    TP = []; TN = []; FN = []; FP = []\n",
    "    for i in range(10):\n",
    "        TP.append(((result == label) & (label == i)).sum())\n",
    "        TN.append(((result == label) & (label != i)). sum())\n",
    "        FP.append(((result != label) & (result == i)).sum())\n",
    "        FN.append(((result != label) & (result != i)).sum())\n",
    "        \n",
    "    TP = np.array(TP); TN = np.array(TN); FN = np.array(FN); FP = np.array(FP)\n",
    "    acc = (TP+TN)/(TP+TN+FP+FN)\n",
    "    pre = TP/(TP+FP)\n",
    "    rec = TP/(TP+FN)\n",
    "    f1 = 2*pre*rec/(pre+rec)\n",
    "    \n",
    "    return acc, pre, rec, f1"
   ]
  },
  {
   "cell_type": "code",
   "execution_count": 39,
   "metadata": {},
   "outputs": [
    {
     "data": {
      "text/plain": [
       "(array([0.559, 0.559, 0.559, 0.559, 0.559, 0.559, 0.559, 0.559, 0.559,\n",
       "        0.559]),\n",
       " array([0.91891892, 0.34013605, 1.        , 0.65714286, 0.77777778,\n",
       "        0.58823529, 0.68518519, 0.69565217, 0.8       , 0.42253521]),\n",
       " array([0.13518887, 0.28818444, 0.04545455, 0.09935205, 0.11642412,\n",
       "        0.04474273, 0.15384615, 0.1025641 , 0.07692308, 0.22058824]),\n",
       " array([0.23570191, 0.31201248, 0.08695652, 0.17260788, 0.20253165,\n",
       "        0.08316008, 0.25127334, 0.17877095, 0.14035088, 0.28985507]))"
      ]
     },
     "execution_count": 39,
     "metadata": {},
     "output_type": "execute_result"
    }
   ],
   "source": [
    "acc, pre, rec, f1 = calcMeasure(result)\n",
    "acc, pre, rec, f1"
   ]
  },
  {
   "cell_type": "code",
   "execution_count": 14,
   "metadata": {},
   "outputs": [],
   "source": [
    "def data_ready2(train, test, k):\n",
    "    trainSet = []\n",
    "    testSet = []\n",
    "    for i in range(10):\n",
    "        trainSet.append(train[i][0:k])\n",
    "        testSet.append(test[i][0:100])\n",
    "    return trainSet, testSet"
   ]
  },
  {
   "cell_type": "code",
   "execution_count": 15,
   "metadata": {},
   "outputs": [
    {
     "name": "stdout",
     "output_type": "stream",
     "text": [
      "10\n",
      "50\n",
      "100\n"
     ]
    }
   ],
   "source": [
    "train, test = init_data()\n",
    "trainSet, testSet = data_ready2(train, test, 50)\n",
    "tmpl = createTmpl(trainSet)\n",
    "print(len(trainSet))\n",
    "print(len(trainSet[0]))\n",
    "print(len(testSet[0]))"
   ]
  },
  {
   "cell_type": "code",
   "execution_count": 16,
   "metadata": {},
   "outputs": [],
   "source": [
    "def createTmpl(trainSet):\n",
    "    tmpl = np.zeros((28, 28*10))\n",
    "#     pdb.set_trace()\n",
    "    for i in range(10):\n",
    "        imsi = np.array(trainSet[i])\n",
    "        tmpl[:,  i*28:(i+1)*28] = np.mean(imsi, axis = 0)\n",
    "    return tmpl"
   ]
  },
  {
   "cell_type": "code",
   "execution_count": 17,
   "metadata": {},
   "outputs": [
    {
     "data": {
      "image/png": "[encoded data removed]",
      "text/plain": [
       "<Figure size 432x288 with 1 Axes>"
      ]
     },
     "metadata": {
      "needs_background": "light"
     },
     "output_type": "display_data"
    }
   ],
   "source": [
    "plt.imshow(tmpl)\n",
    "plt.show()"
   ]
  },
  {
   "cell_type": "code",
   "execution_count": 18,
   "metadata": {},
   "outputs": [],
   "source": [
    "def tmplMatch(tmpl, testSet):\n",
    "    result = np.zeros((100,10))\n",
    "\n",
    "    for i in range(len(testSet)):\n",
    "        for j in range(len(testSet[0])):\n",
    "            imsiTest = np.tile(testSet[i][j], (1,10))\n",
    "            error = np.abs(tmpl-imsiTest)\n",
    "            errorSum = [error[:,0:28].sum(), error[:,28:56].sum(), error[:,56:84].sum(), error[:,84:112].sum(), error[:,112:140].sum(),\n",
    " error[:,140:168].sum(), error[:,168:196].sum(), error[:,196:224].sum(), error[:,224:252].sum(), error[:,252:280].sum()]\n",
    "            result[j,i] = np.argmin(errorSum)\n",
    "    return result"
   ]
  },
  {
   "cell_type": "code",
   "execution_count": 19,
   "metadata": {},
   "outputs": [
    {
     "data": {
      "text/plain": [
       "array([[0., 1., 1., 1., 4., 1., 1., 7., 8., 9.],\n",
       "       [0., 1., 2., 3., 9., 1., 6., 7., 9., 7.],\n",
       "       [0., 1., 1., 3., 9., 1., 1., 7., 8., 9.],\n",
       "       [0., 1., 1., 1., 9., 5., 6., 7., 8., 9.],\n",
       "       [0., 1., 1., 3., 4., 9., 1., 7., 8., 9.],\n",
       "       [6., 1., 3., 1., 6., 1., 1., 7., 9., 9.],\n",
       "       [0., 1., 7., 3., 9., 1., 6., 7., 9., 9.],\n",
       "       [0., 1., 2., 1., 4., 9., 6., 7., 8., 1.],\n",
       "       [0., 1., 2., 5., 4., 3., 6., 7., 8., 1.],\n",
       "       [0., 1., 7., 3., 4., 9., 6., 7., 1., 1.],\n",
       "       [6., 1., 2., 3., 9., 9., 1., 7., 9., 9.],\n",
       "       [0., 1., 1., 1., 4., 5., 6., 9., 8., 9.],\n",
       "       [6., 1., 3., 1., 4., 9., 6., 9., 7., 9.],\n",
       "       [0., 1., 1., 1., 4., 5., 6., 7., 8., 9.],\n",
       "       [0., 1., 1., 1., 4., 9., 6., 1., 1., 9.],\n",
       "       [5., 1., 2., 1., 4., 5., 6., 1., 8., 9.],\n",
       "       [0., 1., 2., 3., 9., 3., 6., 1., 6., 9.],\n",
       "       [9., 1., 6., 1., 9., 1., 6., 9., 5., 9.],\n",
       "       [0., 1., 6., 1., 4., 1., 6., 9., 9., 9.],\n",
       "       [0., 1., 1., 3., 6., 3., 6., 7., 9., 9.],\n",
       "       [0., 1., 1., 1., 4., 5., 6., 7., 8., 9.],\n",
       "       [0., 1., 1., 1., 1., 1., 1., 7., 0., 9.],\n",
       "       [0., 1., 1., 1., 9., 7., 0., 7., 1., 9.],\n",
       "       [0., 1., 1., 3., 4., 5., 6., 1., 8., 9.],\n",
       "       [0., 1., 1., 1., 4., 3., 1., 7., 1., 9.],\n",
       "       [0., 1., 2., 1., 9., 5., 6., 7., 9., 9.],\n",
       "       [0., 1., 1., 5., 9., 1., 4., 9., 8., 9.],\n",
       "       [6., 1., 1., 1., 9., 1., 6., 9., 1., 9.],\n",
       "       [0., 1., 1., 3., 4., 5., 6., 9., 9., 1.],\n",
       "       [8., 1., 1., 1., 9., 1., 1., 9., 1., 9.],\n",
       "       [6., 1., 1., 3., 4., 5., 6., 9., 1., 9.],\n",
       "       [0., 1., 2., 9., 1., 1., 6., 7., 1., 9.],\n",
       "       [0., 1., 1., 3., 4., 1., 6., 7., 1., 9.],\n",
       "       [0., 1., 1., 7., 9., 9., 6., 1., 9., 9.],\n",
       "       [0., 1., 3., 3., 4., 3., 6., 9., 8., 9.],\n",
       "       [0., 1., 1., 5., 4., 0., 7., 1., 8., 1.],\n",
       "       [6., 1., 1., 3., 9., 3., 6., 1., 8., 9.],\n",
       "       [1., 1., 1., 3., 1., 9., 5., 7., 8., 9.],\n",
       "       [0., 1., 7., 3., 9., 1., 4., 1., 9., 9.],\n",
       "       [0., 1., 1., 5., 4., 9., 6., 9., 6., 9.],\n",
       "       [6., 1., 1., 3., 9., 5., 6., 9., 1., 9.],\n",
       "       [9., 1., 1., 3., 4., 5., 6., 7., 0., 9.],\n",
       "       [0., 1., 2., 1., 9., 0., 1., 1., 1., 9.],\n",
       "       [0., 1., 1., 7., 4., 3., 6., 7., 1., 9.],\n",
       "       [0., 1., 2., 3., 4., 9., 4., 7., 9., 9.],\n",
       "       [6., 1., 1., 3., 4., 9., 6., 7., 6., 9.],\n",
       "       [5., 1., 1., 3., 4., 9., 6., 8., 8., 9.],\n",
       "       [9., 1., 5., 1., 7., 1., 6., 7., 9., 9.],\n",
       "       [9., 1., 1., 1., 4., 1., 1., 7., 8., 9.],\n",
       "       [0., 1., 8., 1., 9., 9., 6., 7., 1., 9.],\n",
       "       [0., 1., 1., 3., 4., 1., 6., 9., 1., 9.],\n",
       "       [0., 1., 1., 1., 4., 3., 6., 9., 8., 9.],\n",
       "       [7., 1., 1., 1., 4., 5., 6., 1., 1., 9.],\n",
       "       [0., 1., 1., 1., 9., 5., 6., 7., 9., 9.],\n",
       "       [0., 1., 8., 9., 9., 5., 6., 9., 3., 4.],\n",
       "       [0., 1., 2., 5., 1., 9., 6., 7., 1., 9.],\n",
       "       [7., 1., 1., 3., 9., 9., 6., 9., 8., 9.],\n",
       "       [0., 1., 6., 3., 9., 3., 6., 1., 8., 9.],\n",
       "       [0., 1., 4., 9., 4., 7., 6., 1., 8., 9.],\n",
       "       [9., 1., 1., 8., 4., 6., 6., 7., 8., 9.],\n",
       "       [0., 1., 2., 3., 4., 9., 6., 7., 1., 9.],\n",
       "       [0., 1., 8., 1., 4., 6., 6., 9., 9., 9.],\n",
       "       [0., 1., 2., 1., 4., 1., 6., 7., 1., 9.],\n",
       "       [6., 1., 1., 9., 4., 1., 6., 4., 8., 9.],\n",
       "       [0., 1., 1., 1., 9., 3., 6., 9., 5., 9.],\n",
       "       [6., 1., 6., 3., 9., 5., 6., 1., 9., 9.],\n",
       "       [0., 1., 1., 3., 9., 1., 6., 7., 1., 9.],\n",
       "       [0., 1., 1., 1., 6., 5., 6., 9., 1., 9.],\n",
       "       [0., 1., 4., 3., 4., 3., 6., 1., 4., 9.],\n",
       "       [0., 1., 6., 1., 4., 3., 6., 9., 9., 9.],\n",
       "       [7., 1., 1., 1., 9., 3., 6., 7., 9., 7.],\n",
       "       [0., 1., 1., 1., 4., 1., 1., 9., 8., 7.],\n",
       "       [0., 1., 1., 9., 4., 9., 6., 9., 1., 9.],\n",
       "       [0., 1., 1., 1., 4., 4., 6., 9., 3., 9.],\n",
       "       [0., 1., 1., 1., 9., 1., 1., 7., 7., 9.],\n",
       "       [0., 1., 9., 3., 9., 5., 6., 9., 8., 9.],\n",
       "       [6., 1., 2., 3., 9., 1., 6., 9., 9., 9.],\n",
       "       [6., 1., 8., 3., 4., 1., 6., 9., 3., 9.],\n",
       "       [6., 1., 1., 3., 4., 4., 6., 7., 1., 9.],\n",
       "       [0., 1., 2., 3., 4., 5., 6., 7., 3., 9.],\n",
       "       [0., 1., 8., 1., 9., 5., 6., 7., 8., 9.],\n",
       "       [0., 1., 1., 3., 9., 9., 1., 9., 3., 9.],\n",
       "       [0., 1., 6., 3., 4., 7., 4., 7., 8., 9.],\n",
       "       [5., 1., 2., 5., 9., 9., 0., 1., 1., 9.],\n",
       "       [0., 1., 1., 3., 9., 6., 6., 7., 8., 9.],\n",
       "       [6., 1., 2., 3., 4., 9., 6., 7., 9., 9.],\n",
       "       [0., 1., 2., 1., 4., 3., 6., 1., 8., 4.],\n",
       "       [0., 1., 1., 1., 4., 3., 1., 9., 8., 9.],\n",
       "       [0., 1., 6., 3., 9., 9., 4., 7., 7., 9.],\n",
       "       [0., 1., 1., 3., 4., 4., 6., 1., 1., 9.],\n",
       "       [0., 1., 4., 1., 4., 9., 1., 7., 8., 9.],\n",
       "       [6., 1., 1., 1., 4., 9., 6., 7., 1., 9.],\n",
       "       [6., 1., 8., 3., 4., 5., 6., 7., 1., 9.],\n",
       "       [0., 1., 4., 3., 4., 7., 1., 1., 8., 9.],\n",
       "       [0., 1., 1., 3., 9., 1., 6., 7., 9., 9.],\n",
       "       [5., 1., 1., 3., 4., 1., 6., 9., 1., 9.],\n",
       "       [0., 1., 2., 3., 4., 6., 6., 1., 8., 9.],\n",
       "       [7., 1., 2., 3., 4., 3., 1., 1., 8., 9.],\n",
       "       [0., 1., 2., 1., 9., 9., 6., 7., 9., 9.],\n",
       "       [6., 1., 1., 3., 4., 9., 6., 9., 8., 9.]])"
      ]
     },
     "execution_count": 19,
     "metadata": {},
     "output_type": "execute_result"
    }
   ],
   "source": [
    "result = tmplMatch(tmpl, testSet)\n",
    "result.shape\n",
    "result"
   ]
  },
  {
   "cell_type": "code",
   "execution_count": 20,
   "metadata": {},
   "outputs": [],
   "source": [
    "def calcMeasure(result):\n",
    "    \n",
    "    label = np.tile(np.arange(0,10), (100,1))\n",
    "    \n",
    "    TP = []; TN = []; FN = []; FP = []\n",
    "    for i in range(10):\n",
    "        TP.append(((result == label) & (label == i)).sum())\n",
    "        TN.append(((result == label) & (label != i)). sum())\n",
    "        FP.append(((result != label) & (result == i)).sum())\n",
    "        FN.append(((result != label) & (result != i)).sum())\n",
    "        \n",
    "    TP = np.array(TP)\n",
    "    TN = np.array(TN)\n",
    "    FN = np.array(FN) \n",
    "    FP = np.array(FP)\n",
    "    acc = (TP+TN)/(TP+TN+FP+FN)\n",
    "    pre = TP/(TP+FP)\n",
    "    rec = TP/(TP+FN)\n",
    "    f1 = 2*pre*rec/(pre+rec)\n",
    "    \n",
    "    return acc, pre, rec, f1"
   ]
  },
  {
   "cell_type": "code",
   "execution_count": 21,
   "metadata": {},
   "outputs": [
    {
     "data": {
      "text/plain": [
       "(array([0.559, 0.559, 0.559, 0.559, 0.559, 0.559, 0.559, 0.559, 0.559,\n",
       "        0.559]),\n",
       " array([0.91891892, 0.34013605, 1.        , 0.65714286, 0.77777778,\n",
       "        0.58823529, 0.68518519, 0.69565217, 0.8       , 0.42253521]),\n",
       " array([0.13518887, 0.28818444, 0.04545455, 0.09935205, 0.11642412,\n",
       "        0.04474273, 0.15384615, 0.1025641 , 0.07692308, 0.22058824]),\n",
       " array([0.23570191, 0.31201248, 0.08695652, 0.17260788, 0.20253165,\n",
       "        0.08316008, 0.25127334, 0.17877095, 0.14035088, 0.28985507]))"
      ]
     },
     "execution_count": 21,
     "metadata": {},
     "output_type": "execute_result"
    }
   ],
   "source": [
    "acc, pre, rec, f1 = calcMeasure(result)\n",
    "acc, pre, rec, f1"
   ]
  },
  {
   "cell_type": "code",
   "execution_count": 22,
   "metadata": {
    "scrolled": true
   },
   "outputs": [
    {
     "name": "stdout",
     "output_type": "stream",
     "text": [
      "10\n",
      "100\n",
      "100\n"
     ]
    }
   ],
   "source": [
    "train, test = init_data()\n",
    "trainSet, testSet = data_ready2(train, test, 100)\n",
    "tmpl = createTmpl(trainSet)\n",
    "print(len(trainSet))\n",
    "print(len(trainSet[0]))\n",
    "print(len(testSet[0]))"
   ]
  },
  {
   "cell_type": "code",
   "execution_count": 35,
   "metadata": {
    "scrolled": true
   },
   "outputs": [
    {
     "name": "stdout",
     "output_type": "stream",
     "text": [
      "[0.617 0.617 0.617 0.617 0.617 0.617 0.617 0.617 0.617 0.617]\n"
     ]
    }
   ],
   "source": [
    "train, test = init_data()\n",
    "trainSet, testSet = data_ready2(train, test, 1000)\n",
    "tmpl = createTmpl(trainSet)\n",
    "result = tmplMatch(tmpl, testSet)\n",
    "acc, pre, rec, f1 = calcMeasure(result)\n",
    "acc, pre, rec, f1\n",
    "print(acc)"
   ]
  },
  {
   "cell_type": "code",
   "execution_count": null,
   "metadata": {},
   "outputs": [],
   "source": []
  },
  {
   "cell_type": "code",
   "execution_count": null,
   "metadata": {},
   "outputs": [],
   "source": []
  },
  {
   "cell_type": "code",
   "execution_count": 93,
   "metadata": {},
   "outputs": [],
   "source": [
    "def data_ready2(train, test):\n",
    "    trainSetf = np.zeros((300*10, 28*28))\n",
    "    testSetf = np.zeros((100*10, 28*28))\n",
    "    \n",
    "    for i in range(len(train)):\n",
    "        for j in range(300):\n",
    "            trainSetf[i*300+j,:] = train[i][j].flatten()\n",
    "    for i in range(len(test)):\n",
    "        for j in range(100):\n",
    "            testSetf[i*100+j,:] = test[i][j].flatten()\n",
    "            \n",
    "        return trainSetf, testSetf"
   ]
  },
  {
   "cell_type": "code",
   "execution_count": 94,
   "metadata": {},
   "outputs": [],
   "source": [
    "def knn(trainSet, testSet, k):\n",
    "    label = np.tile(np.arange(0,10), (100,1))\n",
    "    result = np.zeros((100,10))\n",
    "    \n",
    "    for i in range(testSet.shape[0]):\n",
    "        imsi = np.sum((trainSet - testSet[i,:])**2, axis=1)\n",
    "        no = np.argsort(imsi)[0:k]\n",
    "        hist, bins = np.histogram(no//300, np.arange(-0.5, 10.5, 1))\n",
    "        result[i%100, i//100] = np.argmax(list)\n",
    "        \n",
    "    return result"
   ]
  },
  {
   "cell_type": "code",
   "execution_count": 95,
   "metadata": {},
   "outputs": [
    {
     "name": "stderr",
     "output_type": "stream",
     "text": [
      "<ipython-input-46-4ecd358595d4>:17: RuntimeWarning: invalid value encountered in true_divide\n",
      "  pre = TP/(TP+FP)\n"
     ]
    }
   ],
   "source": [
    "# import functools as fs\n",
    "# import time\n",
    "\n",
    "# t1 = time.time()\n",
    "train, test = init_data()\n",
    "trainSet, testSet = data_ready2(train, test)\n",
    "\n",
    "result = knn(trainSet, testSet, 10)\n",
    "acc, pre, rec, f1 = calcMeasure(result)"
   ]
  },
  {
   "cell_type": "code",
   "execution_count": null,
   "metadata": {},
   "outputs": [],
   "source": []
  }
 ],
 "metadata": {
  "kernelspec": {
   "display_name": "Python 3.8.2 64-bit",
   "language": "python",
   "name": "python38264bit4094e939a8b946f98cca8c730a8cf25e"
  },
  "language_info": {
   "codemirror_mode": {
    "name": "ipython",
    "version": 3
   },
   "file_extension": ".py",
   "mimetype": "text/x-python",
   "name": "python",
   "nbconvert_exporter": "python",
   "pygments_lexer": "ipython3",
   "version": "3.8.4"
  }
 },
 "nbformat": 4,
 "nbformat_minor": 4
}
