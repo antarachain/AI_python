{
 "cells": [
  {
   "cell_type": "code",
   "execution_count": 160,
   "metadata": {},
   "outputs": [],
   "source": [
    "import numpy as np\n",
    "import matplotlib.pyplot as plt"
   ]
  },
  {
   "cell_type": "code",
   "execution_count": 161,
   "metadata": {},
   "outputs": [
    {
     "data": {
      "text/plain": [
       "<matplotlib.image.AxesImage at 0x7faf7f312c70>"
      ]
     },
     "execution_count": 161,
     "metadata": {},
     "output_type": "execute_result"
    },
    {
     "data": {
      "image/png": "[encoded data removed]",
      "text/plain": [
       "<Figure size 432x288 with 1 Axes>"
      ]
     },
     "metadata": {
      "needs_background": "light"
     },
     "output_type": "display_data"
    }
   ],
   "source": [
    "empty = np.zeros((5,5))\n",
    "full = np.full((5,5), 255)\n",
    "\n",
    "imsi1 = np.concatenate((empty, full), 0)\n",
    "imsi2 = np.concatenate((full, empty), 0) \n",
    "imsi3 = np.concatenate((imsi1, imsi2), 1)\n",
    "plt.imshow(imsi3)\n",
    "\n",
    "imsi4 = np.zeros((10,200))\n",
    "for i in range(20):\n",
    "    imsi4[:, i*10:i*10+10]=imsi3\n",
    "plt.imshow(imsi4)\n",
    "\n",
    "imsi5 = np.zeros((200,200))\n",
    "for i in range(20):\n",
    "    imsi5[ i*10 : i*10 + 10: , ]=imsi4\n",
    "plt.imshow(imsi5)"
   ]
  },
  {
   "cell_type": "code",
   "execution_count": 181,
   "metadata": {},
   "outputs": [
    {
     "data": {
      "text/plain": [
       "<matplotlib.image.AxesImage at 0x7faf7d735790>"
      ]
     },
     "execution_count": 181,
     "metadata": {},
     "output_type": "execute_result"
    },
    {
     "data": {
      "image/png": "[encoded data removed]",
      "text/plain": [
       "<Figure size 432x288 with 1 Axes>"
      ]
     },
     "metadata": {
      "needs_background": "light"
     },
     "output_type": "display_data"
    }
   ],
   "source": [
    "empty = np.zeros((200, 200))\n",
    "\n",
    "full = np.ones((180, 180))\n",
    "empty[10:190, 10:190] = full\n",
    "\n",
    "full = np.zeros((160, 160))\n",
    "empty[20:180, 20:180] = full\n",
    "\n",
    "full = np.ones((140, 140))\n",
    "empty[30:170, 30:170] = full\n",
    "\n",
    "full = np.zeros((120, 120))\n",
    "empty[40:160, 40:160] = full\n",
    "\n",
    "full = np.ones((100, 100))\n",
    "empty[50:150, 50:150] = full\n",
    "\n",
    "full = np.zeros((80, 80))\n",
    "empty[60:140, 60:140] = full\n",
    "\n",
    "full = np.ones((60,60))\n",
    "empty[70:130, 70:130] = full\n",
    "\n",
    "full = np.zeros((40,40))\n",
    "empty[80:120, 80:120] = full\n",
    "\n",
    "full = np.ones((20,20))\n",
    "empty[90:110, 90:110] = full\n",
    "\n",
    "plt.imshow(empty)"
   ]
  },
  {
   "cell_type": "code",
   "execution_count": 182,
   "metadata": {},
   "outputs": [
    {
     "ename": "NameError",
     "evalue": "name 'imsi' is not defined",
     "output_type": "error",
     "traceback": [
      "\u001b[0;31m---------------------------------------------------------------------------\u001b[0m",
      "\u001b[0;31mNameError\u001b[0m                                 Traceback (most recent call last)",
      "\u001b[0;32m<ipython-input-182-82804b91640c>\u001b[0m in \u001b[0;36m<module>\u001b[0;34m\u001b[0m\n\u001b[1;32m      2\u001b[0m \u001b[0;34m\u001b[0m\u001b[0m\n\u001b[1;32m      3\u001b[0m \u001b[0;32mfor\u001b[0m \u001b[0mi\u001b[0m \u001b[0;32min\u001b[0m \u001b[0mrange\u001b[0m\u001b[0;34m(\u001b[0m\u001b[0;36m9\u001b[0m\u001b[0;34m)\u001b[0m\u001b[0;34m:\u001b[0m\u001b[0;34m\u001b[0m\u001b[0;34m\u001b[0m\u001b[0m\n\u001b[0;32m----> 4\u001b[0;31m     \u001b[0mimsi\u001b[0m\u001b[0;34m\u001b[0m\u001b[0;34m\u001b[0m\u001b[0m\n\u001b[0m",
      "\u001b[0;31mNameError\u001b[0m: name 'imsi' is not defined"
     ]
    }
   ],
   "source": [
    "empty = np.zeros((200,200))\n",
    "\n",
    "for i in range(9):\n",
    "    if i%2==0:\n",
    "        full = np.full((200-(i+1)*20, 200-(i+1)*20), 255)\n",
    "    else:\n",
    "        full = np.full((200-(i+1)*20, 200-(i+1)*20), 0)\n",
    "\n",
    "    \n",
    "empty = np.zeros((200,200))\n",
    "\n",
    "for i in range(9):\n",
    "    if i%2==0:\n",
    "        full = np.full((200 - (i+1)*20, 200 - (i+1)*20), 255)\n",
    "    else:\n",
    "        full = np.full((200 - (i+1)*20, 200 - (i+1)*20), 0)\n",
    "    empty[(i+1)*10:200 - (i+1)*10, (i+1)*10:200 - (i+1)*10] = full\n",
    "plt.imshow(empty, 'gray')\n",
    "plt.show()"
   ]
  },
  {
   "cell_type": "code",
   "execution_count": null,
   "metadata": {},
   "outputs": [],
   "source": []
  }
 ],
 "metadata": {
  "kernelspec": {
   "display_name": "Python 3.8.2 64-bit",
   "language": "python",
   "name": "python38264bit4094e939a8b946f98cca8c730a8cf25e"
  },
  "language_info": {
   "codemirror_mode": {
    "name": "ipython",
    "version": 3
   },
   "file_extension": ".py",
   "mimetype": "text/x-python",
   "name": "python",
   "nbconvert_exporter": "python",
   "pygments_lexer": "ipython3",
   "version": "3.8.3"
  }
 },
 "nbformat": 4,
 "nbformat_minor": 4
}
